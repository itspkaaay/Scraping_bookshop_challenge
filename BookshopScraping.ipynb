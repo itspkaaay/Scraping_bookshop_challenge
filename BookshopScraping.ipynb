{
 "cells": [
  {
   "cell_type": "code",
   "execution_count": 18,
   "metadata": {},
   "outputs": [],
   "source": [
    "from bs4 import BeautifulSoup as soup\n",
    "from urllib.request import urlopen\n",
    "import requests"
   ]
  },
  {
   "cell_type": "code",
   "execution_count": 19,
   "metadata": {},
   "outputs": [],
   "source": [
    "url_list=[]\n",
    "listnum=[str(i) for i in range(1,51)]\n",
    "#listnum"
   ]
  },
  {
   "cell_type": "markdown",
   "metadata": {},
   "source": [
    "# Creating a URL List"
   ]
  },
  {
   "cell_type": "code",
   "execution_count": 20,
   "metadata": {},
   "outputs": [],
   "source": [
    "urlbase='http://books.toscrape.com/catalogue/page-'\n",
    "urllist=[]\n",
    "for imgnum in listnum:\n",
    "    urllist.append(urlbase+imgnum+'.html')\n",
    "\n",
    "    "
   ]
  },
  {
   "cell_type": "markdown",
   "metadata": {},
   "source": [
    "# FETCHING HTML FROM RESPONSE OBJECT"
   ]
  },
  {
   "cell_type": "code",
   "execution_count": 21,
   "metadata": {},
   "outputs": [],
   "source": [
    "response_bookshop= requests.get(urllist[0])\n",
    "#print(type(response_bookshop))"
   ]
  },
  {
   "cell_type": "code",
   "execution_count": 22,
   "metadata": {},
   "outputs": [],
   "source": [
    "response_bookshop_html=response_bookshop.content\n",
    "#print(type(response_bookshop_html))"
   ]
  },
  {
   "cell_type": "markdown",
   "metadata": {},
   "source": [
    "# PARSING THE HTML Page"
   ]
  },
  {
   "cell_type": "code",
   "execution_count": 23,
   "metadata": {},
   "outputs": [],
   "source": [
    "html_parsed_page= soup(response_bookshop_html)\n"
   ]
  },
  {
   "cell_type": "markdown",
   "metadata": {},
   "source": [
    "# Creating list of image urls"
   ]
  },
  {
   "cell_type": "code",
   "execution_count": 24,
   "metadata": {},
   "outputs": [],
   "source": [
    "image_list= html_parsed_page.findAll('img',{'class':'thumbnail'})\n",
    "#print(len(image_list))\n",
    "image_links=[]\n",
    "for i in image_list:\n",
    "    image_links.append(i.get('src'))\n",
    "\n",
    "\n",
    "\n",
    "\n",
    "    \n"
   ]
  },
  {
   "cell_type": "markdown",
   "metadata": {},
   "source": [
    "# Creating a list of book title"
   ]
  },
  {
   "cell_type": "code",
   "execution_count": 25,
   "metadata": {},
   "outputs": [],
   "source": [
    "title_list=html_parsed_page.findAll('h3',{})\n",
    "#print(len(title_list))\n",
    "titlelist=[]\n",
    "for i in title_list:\n",
    "    titlelist.append(i.text)\n"
   ]
  },
  {
   "cell_type": "markdown",
   "metadata": {},
   "source": [
    "# Creating a list of prices of all books"
   ]
  },
  {
   "cell_type": "code",
   "execution_count": 26,
   "metadata": {},
   "outputs": [],
   "source": [
    "price_list=html_parsed_page.findAll('p',{'class':'price_color'})\n",
    "#print(len(price_list))\n",
    "pricelist=[]\n",
    "for i in price_list:\n",
    "    pricelist.append(i.text)\n",
    "\n",
    "    "
   ]
  },
  {
   "cell_type": "markdown",
   "metadata": {},
   "source": [
    "# Extrapolating for all 50 Pages"
   ]
  },
  {
   "cell_type": "code",
   "execution_count": 27,
   "metadata": {},
   "outputs": [],
   "source": [
    "#url_list"
   ]
  },
  {
   "cell_type": "code",
   "execution_count": 28,
   "metadata": {},
   "outputs": [],
   "source": [
    "text_to_write=''\n",
    "image_links=[]\n",
    "titlelist=[]\n",
    "pricelist=[]\n",
    "for url in urllist:\n",
    "    response_bookshop= requests.get(url)\n",
    "    response_bookshop_html=response_bookshop.content\n",
    "    html_parsed_page= soup(response_bookshop_html)\n",
    "    #imgurl\n",
    "    image_list= html_parsed_page.findAll('img',{'class':'thumbnail'})\n",
    "    #image_links=[]\n",
    "    for i in image_list:\n",
    "        image_links.append(i.get('src'))\n",
    "    #title    \n",
    "    title_list=html_parsed_page.findAll('h3',{})\n",
    "    #titlelist=[]\n",
    "    for i in title_list:\n",
    "        name=i.a.get('title')\n",
    "        if ',' in name:\n",
    "            name='\"'+name+'\"'\n",
    "        titlelist.append(name)\n",
    "    #price\n",
    "    price_list=html_parsed_page.findAll('p',{'class':'price_color'})\n",
    "    #pricelist=[]\n",
    "    for i in price_list:\n",
    "        pricelist.append(i.text)\n",
    "\n",
    "#print(len(pricelist))\n",
    "#print(len(image_links))\n",
    "#print(len(titlelist))\n",
    "        \n",
    "#image_links,pricelist,titlelist\n",
    "        \n",
    "    \n",
    "    "
   ]
  },
  {
   "cell_type": "code",
   "execution_count": 29,
   "metadata": {},
   "outputs": [],
   "source": [
    "index_content=[]\n",
    "with open('bookscrap.csv','w') as file:\n",
    "    file_header=['image_url','book_title','product_price']\n",
    "    file_h_string= ','.join(file_header)\n",
    "    file_h_string+='\\n'\n",
    "    file.write(file_h_string)\n",
    "\n",
    "    for (i,b,p) in zip(image_links,titlelist,pricelist):\n",
    "        #print((i,b,p))\n",
    "        text_to_write+=i+','+b+','+p+'\\n'\n",
    "    file.write(text_to_write)\n"
   ]
  },
  {
   "cell_type": "code",
   "execution_count": 30,
   "metadata": {},
   "outputs": [],
   "source": [
    "#print(text_to_write)"
   ]
  },
  {
   "cell_type": "code",
   "execution_count": null,
   "metadata": {},
   "outputs": [],
   "source": []
  },
  {
   "cell_type": "code",
   "execution_count": null,
   "metadata": {},
   "outputs": [],
   "source": []
  },
  {
   "cell_type": "code",
   "execution_count": null,
   "metadata": {},
   "outputs": [],
   "source": []
  },
  {
   "cell_type": "code",
   "execution_count": null,
   "metadata": {},
   "outputs": [],
   "source": []
  },
  {
   "cell_type": "code",
   "execution_count": null,
   "metadata": {},
   "outputs": [],
   "source": []
  },
  {
   "cell_type": "code",
   "execution_count": null,
   "metadata": {},
   "outputs": [],
   "source": []
  },
  {
   "cell_type": "code",
   "execution_count": null,
   "metadata": {},
   "outputs": [],
   "source": []
  }
 ],
 "metadata": {
  "kernelspec": {
   "display_name": "Python 3",
   "language": "python",
   "name": "python3"
  },
  "language_info": {
   "codemirror_mode": {
    "name": "ipython",
    "version": 3
   },
   "file_extension": ".py",
   "mimetype": "text/x-python",
   "name": "python",
   "nbconvert_exporter": "python",
   "pygments_lexer": "ipython3",
   "version": "3.7.6"
  }
 },
 "nbformat": 4,
 "nbformat_minor": 4
}
